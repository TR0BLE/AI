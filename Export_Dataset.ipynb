{
  "nbformat": 4,
  "nbformat_minor": 0,
  "metadata": {
    "colab": {
      "name": "Export Dataset.ipynb",
      "provenance": [],
      "collapsed_sections": []
    },
    "kernelspec": {
      "name": "python3",
      "display_name": "Python 3"
    }
  },
  "cells": [
    {
      "cell_type": "code",
      "metadata": {
        "colab": {
          "base_uri": "https://localhost:8080/"
        },
        "id": "wLpn-0AiJt9R",
        "outputId": "092b7a91-a8a0-49ab-e19c-f3aedef26387"
      },
      "source": [
        "#Importing the libraries\r\n",
        "\r\n",
        "import numpy as np\r\n",
        "import pandas as pd\r\n",
        "\r\n",
        "# Setting conversion rates and the number of samples\r\n",
        "conversionRates = [0.15,0.04,0.13, 0.11, 0.05]      # specify the values your dataset may contain\r\n",
        "N = 10000                                           # specify the number of Rows\r\n",
        "d = 2 #len(conversionRates)                         # specify the number of Columns\r\n",
        "\r\n",
        "# Creating the dataset\r\n",
        "\r\n",
        "X = np.zeros((N, d))\r\n",
        "for i in range (N):\r\n",
        "  for j in range(d):\r\n",
        "    if np.random.randn() < conversionRates[j]:\r\n",
        "     X[i][j] = 1\r\n",
        "\r\n",
        "\r\n",
        "print(X)                                            # check your dataset\r\n",
        "df = pd.DataFrame(X, columns= ['Value 1', 'Value 2'])   # update labels of your dataset, must be same as number of columns specified above\r\n",
        "print(df)                                           # check your dataframe \r\n",
        "\r\n",
        "df.to_csv(r'C:\\Users\\gift\\Desktop\\PYTHON\\Extract.csv', index = False, header = True) # provide proper path where you want to save your excel file"
      ],
      "execution_count": null,
      "outputs": [
        {
          "output_type": "stream",
          "text": [
            "[[1. 1.]\n",
            " [0. 0.]\n",
            " [1. 1.]\n",
            " ...\n",
            " [0. 0.]\n",
            " [0. 0.]\n",
            " [0. 0.]]\n",
            "      Value 1  Value 2\n",
            "0         1.0      1.0\n",
            "1         0.0      0.0\n",
            "2         1.0      1.0\n",
            "3         1.0      0.0\n",
            "4         1.0      0.0\n",
            "...       ...      ...\n",
            "9995      0.0      1.0\n",
            "9996      0.0      1.0\n",
            "9997      0.0      0.0\n",
            "9998      0.0      0.0\n",
            "9999      0.0      0.0\n",
            "\n",
            "[10000 rows x 2 columns]\n"
          ],
          "name": "stdout"
        }
      ]
    }
  ]
}