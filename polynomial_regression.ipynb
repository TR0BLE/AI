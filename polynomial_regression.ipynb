{
  "nbformat": 4,
  "nbformat_minor": 0,
  "metadata": {
    "colab": {
      "name": "polynomial_regression.ipynb",
      "provenance": [],
      "collapsed_sections": []
    },
    "kernelspec": {
      "name": "python3",
      "display_name": "Python 3"
    }
  },
  "cells": [
    {
      "cell_type": "code",
      "metadata": {
        "id": "QSVQcGV2rEnx"
      },
      "source": [
        "# predict the nature of the yield of an oven based on the temperature applied\r\n",
        "\r\n",
        "# Importing the libraries\r\n",
        "\r\n",
        "import pandas as pd\r\n",
        "import matplotlib.pyplot as plt\r\n",
        "import numpy as np\r\n",
        "\r\n",
        "# Import the dataset\r\n",
        "\r\n",
        "dataset = pd.read_excel('Yield.xlsx')\r\n",
        "X = dataset.iloc[:, 1:-1].values\r\n",
        "y = dataset.iloc[:, -1].values\r\n"
      ],
      "execution_count": 2,
      "outputs": []
    },
    {
      "cell_type": "code",
      "metadata": {
        "colab": {
          "base_uri": "https://localhost:8080/",
          "height": 295
        },
        "id": "szOG_T_dwqP1",
        "outputId": "0e294a87-d7ac-4816-dd94-9ba1aa8f7828"
      },
      "source": [
        "# Train the polynomial regressor on training set\r\n",
        "\r\n",
        "from sklearn.preprocessing import PolynomialFeatures\r\n",
        "from sklearn.linear_model import LinearRegression\r\n",
        "lin_reg = LinearRegression()\r\n",
        "poly_reg = PolynomialFeatures()\r\n",
        "X_poly = poly_reg.fit_transform(X)\r\n",
        "lin_reg.fit(X_poly, y)\r\n",
        "\r\n",
        "# Visualising the results\r\n",
        "\r\n",
        "plt.scatter(X, y, color = 'red')\r\n",
        "plt.plot(X, lin_reg.predict(poly_reg.fit_transform(X)), color = 'blue')\r\n",
        "plt.title('Temperature v/s Yield')\r\n",
        "plt.xlabel('Temperature')\r\n",
        "plt.ylabel('Yield')\r\n",
        "plt.show()\r\n",
        "\r\n"
      ],
      "execution_count": 3,
      "outputs": [
        {
          "output_type": "display_data",
          "data": {
            "image/png": "[encoded data removed]",
            "text/plain": [
              "<Figure size 432x288 with 1 Axes>"
            ]
          },
          "metadata": {
            "tags": [],
            "needs_background": "light"
          }
        }
      ]
    }
  ]
}