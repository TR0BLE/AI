{
  "nbformat": 4,
  "nbformat_minor": 0,
  "metadata": {
    "colab": {
      "name": "test.ipynb",
      "provenance": [],
      "collapsed_sections": []
    },
    "kernelspec": {
      "name": "python3",
      "display_name": "Python 3"
    }
  },
  "cells": [
    {
      "cell_type": "code",
      "metadata": {
        "colab": {
          "base_uri": "https://localhost:8080/"
        },
        "id": "mrnI12zu-RKh",
        "outputId": "7063f0c6-4dad-486d-fd53-a9f79de89366"
      },
      "source": [
        "a = []\r\n",
        "for i in range (0,101):\r\n",
        "  if i%6 != 0:\r\n",
        "    if i%10 != 0:\r\n",
        "      a.append(i)\r\n",
        "\r\n",
        "print(a)"
      ],
      "execution_count": null,
      "outputs": [
        {
          "output_type": "stream",
          "text": [
            "[1, 2, 3, 4, 5, 7, 8, 9, 11, 13, 14, 15, 16, 17, 19, 21, 22, 23, 25, 26, 27, 28, 29, 31, 32, 33, 34, 35, 37, 38, 39, 41, 43, 44, 45, 46, 47, 49, 51, 52, 53, 55, 56, 57, 58, 59, 61, 62, 63, 64, 65, 67, 68, 69, 71, 73, 74, 75, 76, 77, 79, 81, 82, 83, 85, 86, 87, 88, 89, 91, 92, 93, 94, 95, 97, 98, 99]\n"
          ],
          "name": "stdout"
        }
      ]
    },
    {
      "cell_type": "code",
      "metadata": {
        "colab": {
          "base_uri": "https://localhost:8080/"
        },
        "id": "BavjBZcd-8SX",
        "outputId": "4f752c1f-5eac-40ad-d456-e568ad3dfd11"
      },
      "source": [
        "a = [\"1\", \"2\", \"34\", \"100\"]\r\n",
        "c = []\r\n",
        "for i in a:\r\n",
        "  b = int(i)\r\n",
        "  c.append(b)\r\n",
        "\r\n",
        "print(c)"
      ],
      "execution_count": null,
      "outputs": [
        {
          "output_type": "stream",
          "text": [
            "[1, 2, 34, 100]\n"
          ],
          "name": "stdout"
        }
      ]
    },
    {
      "cell_type": "code",
      "metadata": {
        "id": "RJ_4MXrFGq9W",
        "colab": {
          "base_uri": "https://localhost:8080/"
        },
        "outputId": "0d05ffdf-80b6-4102-b709-7ab678a4cc05"
      },
      "source": [
        "a = 10 # input range till where the fibonacci and number series is required, can be dynamic int(input())\r\n",
        "b = 0\r\n",
        "c = 0\r\n",
        "d = 1\r\n",
        "f = []\r\n",
        "g = []\r\n",
        "\r\n",
        "for i in range (0,a):\r\n",
        "  f.append(c)\r\n",
        "  e = c + d\r\n",
        "  c = d\r\n",
        "  d = e\r\n",
        "\r\n",
        "for i in range (1, a):\r\n",
        "  for j in range (0, a):\r\n",
        "    if j%f[i] != 0:\r\n",
        "      g.append(j)\r\n",
        "\r\n",
        "h = []\r\n",
        "[h.append(x) for x in g if x not in h]\r\n",
        "print(h)"
      ],
      "execution_count": 23,
      "outputs": [
        {
          "output_type": "stream",
          "text": [
            "[1, 3, 5, 7, 9, 2, 4, 8, 6]\n"
          ],
          "name": "stdout"
        }
      ]
    }
  ]
}