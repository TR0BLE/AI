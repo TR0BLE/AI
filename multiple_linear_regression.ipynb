{
  "nbformat": 4,
  "nbformat_minor": 0,
  "metadata": {
    "colab": {
      "name": "multiple_linear_regression.ipynb",
      "provenance": [],
      "collapsed_sections": []
    },
    "kernelspec": {
      "name": "python3",
      "display_name": "Python 3"
    }
  },
  "cells": [
    {
      "cell_type": "code",
      "metadata": {
        "colab": {
          "base_uri": "https://localhost:8080/"
        },
        "id": "qH3qzN76fpMN",
        "outputId": "7e10f451-03fe-49e5-c082-f79507593eac"
      },
      "source": [
        "# Predict which company will produce best returns based on their current expenditure and display in graph\r\n",
        "\r\n",
        "# Import the libraries\r\n",
        "\r\n",
        "import pandas as pd\r\n",
        "import numpy as np\r\n",
        "import matplotlib.pyplot as plt\r\n",
        "\r\n",
        "#Import the dataset\r\n",
        "\r\n",
        "dataset = pd.read_excel('Company.xlsx')\r\n",
        "X = dataset.iloc[:, :-1].values\r\n",
        "y = dataset.iloc[:, -1].values\r\n",
        "\r\n",
        "# Apply One Hot Encoding on city i.e. column number 4\r\n",
        "\r\n",
        "from sklearn.preprocessing import OneHotEncoder\r\n",
        "from sklearn.compose import ColumnTransformer\r\n",
        "ct = ColumnTransformer( transformers = [('encoder', OneHotEncoder(), [3])], remainder = 'passthrough')\r\n",
        "X = np.array(ct.fit_transform(X))\r\n",
        "print(X)\r\n",
        "\r\n",
        "# Split the data into Training and Test set\r\n",
        "\r\n",
        "from sklearn.model_selection import train_test_split\r\n",
        "X_train, X_test, y_train, y_test = train_test_split(X, y, test_size = 0.2, random_state = 0)"
      ],
      "execution_count": 11,
      "outputs": [
        {
          "output_type": "stream",
          "text": [
            "[[0.0 1.0 0.0 165349 136897 471784]\n",
            " [0.0 0.0 1.0 162597 151377 443898]\n",
            " [1.0 0.0 0.0 153441 101145 407934]\n",
            " [0.0 1.0 0.0 144372 118671 383199]\n",
            " [1.0 0.0 0.0 142107 91391 366168]\n",
            " [0.0 1.0 0.0 131876 99814 362861]\n",
            " [0.0 0.0 1.0 134615 147198 127716]\n",
            " [1.0 0.0 0.0 130298 145530 323876]\n",
            " [0.0 1.0 0.0 120542 148718 311613]\n",
            " [0.0 0.0 1.0 123334 108679 304981]\n",
            " [1.0 0.0 0.0 101913 110594 229160]\n",
            " [0.0 0.0 1.0 100671 91790 249744]\n",
            " [1.0 0.0 0.0 93863 127320 249839]\n",
            " [0.0 0.0 1.0 91992 135495 252664]\n",
            " [1.0 0.0 0.0 119943 156547 256512]\n",
            " [0.0 1.0 0.0 114523 122616 261776]\n",
            " [0.0 0.0 1.0 78013 121597 264346]\n",
            " [0.0 1.0 0.0 94657 145077 282574]\n",
            " [1.0 0.0 0.0 91749 114175 294919]\n",
            " [0.0 1.0 0.0 86419 153514 0]\n",
            " [0.0 0.0 1.0 76253 113867 298664]\n",
            " [0.0 1.0 0.0 78389 153773 299737]\n",
            " [1.0 0.0 0.0 73994 122782 303319]\n",
            " [1.0 0.0 0.0 67532 105751 304768]\n",
            " [0.0 1.0 0.0 77044 99281 140574]\n",
            " [0.0 0.0 1.0 64664 139553 137962]\n",
            " [1.0 0.0 0.0 75328 144135 134050]\n",
            " [0.0 1.0 0.0 72107 127864 353183]\n",
            " [1.0 0.0 0.0 66051 182645 118148]\n",
            " [0.0 1.0 0.0 65605 153032 107138]\n",
            " [1.0 0.0 0.0 61994 115641 91131]\n",
            " [0.0 1.0 0.0 61136 152701 88218]\n",
            " [0.0 0.0 1.0 63408 129219 46085]\n",
            " [1.0 0.0 0.0 55493 103057 214634]\n",
            " [0.0 0.0 1.0 46426 157693 210797]\n",
            " [0.0 1.0 0.0 46014 85047 205517]\n",
            " [1.0 0.0 0.0 28663 127056 201126]\n",
            " [0.0 0.0 1.0 44069 51283 197029]\n",
            " [0.0 1.0 0.0 20229 65947 185265]\n",
            " [0.0 0.0 1.0 38558 82982 174999]\n",
            " [0.0 0.0 1.0 28754 118546 172795]\n",
            " [1.0 0.0 0.0 27892 84710 164470]\n",
            " [0.0 0.0 1.0 23640 96189 148001]\n",
            " [0.0 1.0 0.0 15505 127382 35534]\n",
            " [0.0 0.0 1.0 22177 154806 28334]\n",
            " [0.0 1.0 0.0 1000 124153 1903]\n",
            " [1.0 0.0 0.0 1315 115816 297114]\n",
            " [0.0 0.0 1.0 0 135426 0]\n",
            " [0.0 1.0 0.0 542 51743 0]\n",
            " [0.0 0.0 1.0 0 116983 45173]]\n"
          ],
          "name": "stdout"
        }
      ]
    },
    {
      "cell_type": "code",
      "metadata": {
        "colab": {
          "base_uri": "https://localhost:8080/"
        },
        "id": "QY964SEzoDsg",
        "outputId": "c84a8943-3807-4edd-9b7c-f6492eebcbdc"
      },
      "source": [
        "# Train the regressor on training set\r\n",
        "\r\n",
        "from sklearn.linear_model import LinearRegression\r\n",
        "regressor = LinearRegression()\r\n",
        "regressor.fit(X_train, y_train)\r\n",
        "\r\n",
        "# Test the regressor on test set\r\n",
        "\r\n",
        "y_pred = regressor.predict(X_test)\r\n",
        "np.set_printoptions(precision= 2)\r\n",
        "print(np.concatenate((y_pred.reshape(len(y_pred),1), y_test.reshape(len(y_test),1)),1))\r\n",
        "\r\n"
      ],
      "execution_count": 14,
      "outputs": [
        {
          "output_type": "stream",
          "text": [
            "[[103014.53 103282.  ]\n",
            " [132581.42 144259.  ]\n",
            " [132447.42 146121.  ]\n",
            " [ 71975.11  77798.  ]\n",
            " [178536.87 191050.  ]\n",
            " [116160.6  105008.  ]\n",
            " [ 67851.05  81229.  ]\n",
            " [ 98791.24  97483.  ]\n",
            " [113968.76 110352.  ]\n",
            " [167920.57 166187.  ]]\n"
          ],
          "name": "stdout"
        }
      ]
    }
  ]
}