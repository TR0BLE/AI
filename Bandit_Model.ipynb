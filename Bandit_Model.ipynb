{
  "nbformat": 4,
  "nbformat_minor": 0,
  "metadata": {
    "colab": {
      "name": "Bandit_Model.ipynb",
      "provenance": [],
      "collapsed_sections": []
    },
    "kernelspec": {
      "name": "python3",
      "display_name": "Python 3"
    }
  },
  "cells": [
    {
      "cell_type": "code",
      "metadata": {
        "id": "3FaK70YwVQy_",
        "colab": {
          "base_uri": "https://localhost:8080/"
        },
        "outputId": "a9c17c4f-0015-41fe-c6d6-1e1fc35343e2"
      },
      "source": [
        "#Importing the libraries\r\n",
        "\r\n",
        "import numpy as np\r\n",
        "\r\n",
        "# Setting conversion rates and the number of samples\r\n",
        "conversionRates = [0.15,0.04,0.13, 0.11, 0.05]              # predetermined to generate dataset\r\n",
        "N = 10000\r\n",
        "d = len(conversionRates)\r\n",
        "\r\n",
        "# Creating the dataset\r\n",
        "\r\n",
        "X = np.zeros((N, d))\r\n",
        "for i in range (N):\r\n",
        "  for j in range(d):\r\n",
        "    if np.random.randn() < conversionRates[j]:\r\n",
        "      X[i][j] = 1\r\n",
        "\r\n",
        "\r\n",
        "print(X)\r\n",
        "# Making array to count our wins and losses\r\n",
        "\r\n",
        "nPosReward = np.zeros(d)\r\n",
        "nNegReward = np.zeros(d)\r\n",
        "\r\n",
        "# Taking our best slot machine through beta distribution and updating its losses and wins\r\n",
        "\r\n",
        "for i in range(N):\r\n",
        "  selected = 0\r\n",
        "  maxRandom = 0\r\n",
        "  for j in range(d):\r\n",
        "    randomBeta = np.random.beta(nPosReward[j]+1, nNegReward[j] + 1)\r\n",
        "    if randomBeta > maxRandom:\r\n",
        "      maxRandom = randomBeta\r\n",
        "      selected = j\r\n",
        "# provide the feedback\r\n",
        "  if X[i][selected] == 1:\r\n",
        "    nPosReward[selected] += 1\r\n",
        "  else:\r\n",
        "    nNegReward[selected] += 1\r\n",
        "\r\n",
        "# Showing which slot machine is considered the best\r\n",
        "\r\n",
        "nSelected = nPosReward + nNegReward\r\n",
        "for i in range(d):\r\n",
        "  print('Machine number ' + str(i+1) + ' was selected ' + str(nSelected[i])+ ' times')\r\n",
        "print('Conclusion : Best machine is machine number ' + str(np.argmax(nSelected) + 1 ))"
      ],
      "execution_count": null,
      "outputs": [
        {
          "output_type": "stream",
          "text": [
            "[[1. 0. 1. 1. 1.]\n",
            " [1. 0. 1. 1. 1.]\n",
            " [1. 1. 1. 0. 1.]\n",
            " ...\n",
            " [0. 1. 1. 0. 0.]\n",
            " [0. 1. 0. 1. 1.]\n",
            " [1. 1. 0. 0. 1.]]\n",
            "Machine number 1 was selected 2689.0 times\n",
            "Machine number 2 was selected 628.0 times\n",
            "Machine number 3 was selected 2771.0 times\n",
            "Machine number 4 was selected 2581.0 times\n",
            "Machine number 5 was selected 1331.0 times\n",
            "Conclusion : Best machine is machine number 3\n"
          ],
          "name": "stdout"
        }
      ]
    }
  ]
}